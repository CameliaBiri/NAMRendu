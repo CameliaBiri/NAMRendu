{
 "cells": [
  {
   "cell_type": "markdown",
   "metadata": {},
   "source": [
    "# Lab1 (Student version)\n",
    "\n",
    "We can use the following libraries."
   ]
  },
  {
   "cell_type": "code",
   "execution_count": 2,
   "metadata": {},
   "outputs": [
    {
     "name": "stdout",
     "output_type": "stream",
     "text": [
      "3.9.2 (default, Feb 28 2021, 17:03:44) \n",
      "[GCC 10.2.1 20210110]\n"
     ]
    }
   ],
   "source": [
    "import matplotlib.pyplot as plt\n",
    "import math\n",
    "import sys\n",
    "print(sys.version)\n",
    "import csv"
   ]
  },
  {
   "cell_type": "markdown",
   "metadata": {},
   "source": [
    "## Exercise 1: getting things started with undirected graphs"
   ]
  },
  {
   "cell_type": "markdown",
   "metadata": {},
   "source": [
    "### Question 1\n",
    "\n",
    "Create manually an unidrected graph (with approximately a dozen nodes) test_graph.txt and store them in a text file in the format (for each line):\n",
    "\n",
    "x    y \n",
    "\n",
    "Where x and y are separated with a tabulation. You will use them to test your codes."
   ]
  },
  {
   "cell_type": "markdown",
   "metadata": {},
   "source": [
    "### Question 2\n",
    "\n",
    "Download the following graphs (be careful these datasets are quite heavy):\n",
    "\n",
    "http://snap.stanford.edu/data/com-Amazon.html\n",
    "\n",
    "http://snap.stanford.edu/data/com-LiveJournal.html\n",
    "\n",
    "Also, download the graph bugged_graph.txt from http://lioneltabourier.fr/teaching_en.html\n",
    "\n",
    "These graphs and test_graph.txt allow you to check the results of your programs.\n"
   ]
  },
  {
   "cell_type": "markdown",
   "metadata": {},
   "source": [
    "### Question 3\n",
    "\n",
    "Make a program which reads a graph from a text file and counts the number of nodes and edges in a graph (without storing it in memory). "
   ]
  },
  {
   "cell_type": "code",
   "execution_count": null,
   "metadata": {},
   "outputs": [],
   "source": [
    "def calculate_nodes_edges(filename, delimiter):\n",
    "    node_number=0\n",
    "    edge_number=0\n",
    "    nodes=[]\n",
    "    with open(filename) as file:\n",
    "        file = csv.reader(file, delimiter=delimiter)\n",
    "        for line in file:\n",
    "            if line[0]!=\"#\":\n",
    "                edge_number+=1\n",
    "                if line[0] not in nodes:\n",
    "                    nodes.append(line[0])\n",
    "                    node_number+=1\n",
    "                if line[1] not in nodes:\n",
    "                    nodes.append(line[1])\n",
    "                    node_number+=1\n",
    "            \n",
    "                            \n",
    "    return node_number,edge_number\n",
    "\n",
    "node_number,edge_number=calculate_node_edge(\"C:/Users/abdel/Desktop/Cours5/NAM/LABs/file.txt\",\"\\t\")\n",
    "print(\"The number of nodes in this graph is :\",node_number)\n",
    "print(\"The number of edges in this graph is :\",edge_number)\n",
    "\n",
    "#We have created a function that takes the filename and the delimiter as parameters, it open the file and uses the csv package\n",
    "#to parse each line of the file in a list of strings based on the delimiter. For each line in the file that does not start with #, \n",
    "# the edge_number variable which contains the number edges is increased. And to calculate the number of nodes, \n",
    "# we load only the different nodes of the graph in a list and count how many nodes are in that list. \n",
    "#Finaly, this function will return two values: the number of nodes and the number of edges.\n"
   ]
  },
  {
   "cell_type": "markdown",
   "metadata": {},
   "source": [
    "### Question 3bis\n",
    "\n",
    "Apply the previous code to bugged_graph.txt and then look at the content of the file. Does it correspond to the expected result? Explain in one sentence what the problem is."
   ]
  },
  {
   "cell_type": "code",
   "execution_count": null,
   "metadata": {},
   "outputs": [],
   "source": [
    "node_number,edge_number=calculate_node_edge(\"C:/Users/abdel/Desktop/Cours5/NAM/LABs/bugged_graph.txt\",\" \")\n",
    "print(\"The number of nodes in this graph is :\",node_number)\n",
    "print(\"The number of edges in this graph is :\",edge_number)\n",
    "\n",
    "#No it does not correspond to the expected result, beacuse when applying the previous function to that file, we are\n",
    "# seeing that some edges are counted more times. The problems are loops and duplicated edges."
   ]
  },
  {
   "cell_type": "markdown",
   "metadata": {},
   "source": [
    "### Question 4\n",
    "\n",
    "Make a program which counts the degree (i.e. the number of edges) of a node of a graph (without storing it in memory)."
   ]
  },
  {
   "cell_type": "code",
   "execution_count": null,
   "metadata": {},
   "outputs": [],
   "source": [
    "def list_node(filename,delimiter):\n",
    "    nodes=[]\n",
    "    with open(filename) as file:\n",
    "        file = csv.reader(file, delimiter=delimiter)\n",
    "        for line in file:\n",
    "            if line[0] != \"#\":\n",
    "                if line[0] not in nodes:\n",
    "                    nodes.append(line[0])\n",
    "                if line[1] not in nodes:\n",
    "                    nodes.append(line[1])\n",
    "    return nodes\n",
    "\n",
    "def degree_list(filename,nodes,delimiter):\n",
    "    degree={}\n",
    "    for node in nodes:\n",
    "        count_degree = 0\n",
    "        degree[node]=[]\n",
    "        with open(filename) as file:\n",
    "            file = csv.reader(file, delimiter=delimiter)\n",
    "            for line in file:\n",
    "                if line[0] != \"#\":\n",
    "                    if line[0] == node or line[1] == node:\n",
    "                        if line[0] != line[1]:\n",
    "                            count_degree += 1\n",
    "            degree[node]=count_degree\n",
    "    return degree\n",
    "\n",
    "degrees = degree_list(\"graph.txt\",list_node(\"graph.txt\",\" \"),\" \")\n",
    "\n",
    "for key,value in degrees.items():\n",
    "    print(\"The degree of node \",key,\"is :\", value)\n",
    "\n",
    "# We have created two functions, one function (list_node) is used to load only the different nodes of a graph, and the second\n",
    "# function (degree_list) takes the filename, the list of nodes and the delimiter of the file and calculate\n",
    "# the degree of each node in the graph and return a dictionnary which contains all the nodes and there degrees."
   ]
  },
  {
   "cell_type": "markdown",
   "metadata": {},
   "source": [
    "## Exercise 2: loading a graph in memory"
   ]
  },
  {
   "cell_type": "markdown",
   "metadata": {},
   "source": [
    "### Question 5\n",
    "\n",
    "Make a program which reads a graph from a text file and load it as a python dictionary of lists. \n",
    "This implementation of the adjacency list format will be the standard format that we will use to store a graph in this course."
   ]
  },
  {
   "cell_type": "code",
   "execution_count": null,
   "metadata": {},
   "outputs": [],
   "source": [
    "def load_graph(filename, delimiter):\n",
    "    graph={}\n",
    "    with open(filename) as file:\n",
    "        file = csv.reader(file, delimiter=delimiter)\n",
    "        for line in file:\n",
    "            if line[0] not in graph:\n",
    "                graph[line[0]] = []\n",
    "            graph[line[0]].append(line[1])\n",
    "            \n",
    "        \n",
    "    return graph\n",
    "graph = load_graph(\"C:/Users/abdel/Desktop/Cours5/NAM/LABs/file.txt\",\"\\t\")\n",
    "print(graph)\n",
    "\n",
    "#We have created a function that takes the filename and delimiter as parameters, this function opens a file \n",
    "# and uses csv package to parse each line of the file in list of strings based on the delimiter, for each line we verify if the \n",
    "# fisrt element of the line is not in the graph dictionary, we add it to the dictionary as a key and create an empty list as value\n",
    "# of that key that is used to store the neighbors of that node (key)."
   ]
  },
  {
   "cell_type": "markdown",
   "metadata": {},
   "source": [
    "### Question 6\n",
    "\n",
    "Make a program that deletes the self-loops and duplicated edges existing in the graph and writes it in a new text file. \n",
    "\n",
    "Use it on bugged_graph.txt to create a graph debugged_graph.txt without self-loops and duplicated edges."
   ]
  },
  {
   "cell_type": "code",
   "execution_count": null,
   "metadata": {},
   "outputs": [],
   "source": [
    "def delete(filename, delimiter):\n",
    "    new_graph={}\n",
    "    with open(filename) as file:\n",
    "        file = csv.reader(file, delimiter=delimiter)\n",
    "        for line in file:\n",
    "            if line[0] not in new_graph:\n",
    "                new_graph[line[0]] = []\n",
    "            if line[0]!=line[1] and line[1] not in new_graph[line[0]] :\n",
    "                new_graph[line[0]].append(line[1])\n",
    "    \n",
    "    with open(\"C:/Users/abdel/Desktop/Cours5/NAM/LABs/debugged_graph.txt\", \"w\") as file:\n",
    "        writer = csv.writer(file, delimiter=delimiter)\n",
    "        for key, values in new_graph.items():\n",
    "            for value in values:\n",
    "                line = [key,value]\n",
    "                writer.writerow(line)\n",
    "                \n",
    "            \n",
    "    \n",
    "    return new_graph\n",
    "\n",
    "new_graph = delete(\"C:/Users/abdel/Desktop/Cours5/NAM/LABs/bugged_graph.txt\",\" \")\n",
    "print(new_graph)\n",
    "\n",
    "#Here, we have a created a function that reads a graph from a text file, deletes the loops and duplicated edges in that graph.\n",
    "# Then it stores the new graph in a new text file."
   ]
  },
  {
   "cell_type": "markdown",
   "metadata": {},
   "source": [
    "### Question 7\n",
    "\n",
    "Try the data structure of Question 5 on the two graphs downloaded in Question 2, can you load them in memory? Can you print them on the screen?\n",
    "\n",
    "Conclude on the scalability (meaning what graph size can you handle with this data structure)."
   ]
  },
  {
   "cell_type": "code",
   "execution_count": null,
   "metadata": {},
   "outputs": [],
   "source": [
    "graph = load_graph(\"C:/Users/abdel/Desktop/Cours5/NAM/LABs/com-amazon.ungraph.txt\",\"\\t\")\n",
    "print(graph)\n",
    "# We can load them but we cannot print theme. The problem is that the amount of data loaded exceeds the IOPS rate. So, using\n",
    "# the dictionary of lists to loads graphs is not scalable, we can use this data structure to load only small graphs but not\n",
    "# large graphs. "
   ]
  },
  {
   "cell_type": "markdown",
   "metadata": {},
   "source": [
    "## Exercise 3: degree distribution"
   ]
  },
  {
   "cell_type": "markdown",
   "metadata": {},
   "source": [
    "### Question 8\n",
    "Create a program which computes the degree distribution of a graph, store it in a python dictionary of the form:\n",
    "\n",
    "deg: number of occurrences"
   ]
  },
  {
   "cell_type": "code",
   "execution_count": null,
   "metadata": {},
   "outputs": [],
   "source": [
    "degrees = degree_list(\"graph.txt\",list_node(\"graph.txt\",\" \"),\" \")\n",
    "# We have already created a function that calculates the degree of all the nodes of a graph in the question 4 of the Exercice 1.\n"
   ]
  },
  {
   "cell_type": "markdown",
   "metadata": {},
   "source": [
    "### Question 9\n",
    "\n",
    "Plot the degree distribution in log scale (using matplotlib for example)."
   ]
  },
  {
   "cell_type": "code",
   "execution_count": null,
   "metadata": {},
   "outputs": [],
   "source": [
    "def degree_distribution(degrees):\n",
    "    plt.scatter(degrees.keys(), degrees.values())\n",
    "    plt.show()\n",
    "    \n",
    "degree_distribution(degrees):"
   ]
  },
  {
   "cell_type": "markdown",
   "metadata": {},
   "source": [
    "## Exercise 3: the case of directed graphs"
   ]
  },
  {
   "cell_type": "markdown",
   "metadata": {},
   "source": [
    "### Question 10\n",
    "\n",
    "Download the following directed graph:\n",
    "\n",
    "http://konect.cc/networks/web-Google/\n",
    "\n",
    "By adapting your codes for undirected graphs to directed graphs, load it in memory into a double ajacency list format."
   ]
  },
  {
   "cell_type": "code",
   "execution_count": 4,
   "metadata": {},
   "outputs": [
    {
     "name": "stdout",
     "output_type": "stream",
     "text": [
      "{'2': ['1', '4'], '3': ['1', '2', '4'], '4': ['1', '2'], '1': ['2', '3']}\n",
      "{'1': ['2', '3', '4'], '2': ['1', '3', '4'], '3': ['1'], '4': ['3', '2']}\n"
     ]
    }
   ],
   "source": [
    "def load_directed(filename, delimiter):\n",
    "    graph_in = {}\n",
    "    graph_out = {}\n",
    "    with open(filename) as file:\n",
    "        file = csv.reader(file, delimiter=delimiter)\n",
    "        for line in file:\n",
    "            if line[0]!=\"#\":\n",
    "                if line[0] not in graph_out:\n",
    "                    graph_out[line[0]]=[]\n",
    "                graph_out[line[0]].append(line[1])\n",
    "                if line[1] not in graph_in:\n",
    "                    graph_in[line[1]]=[]\n",
    "                graph_in[line[1]].append(line[0])\n",
    "    return graph_in,graph_out\n",
    "\n",
    "graph_in,graph_out = load_directed(\"test_graph.txt\",\"\\t\")\n",
    "print(\"The out adjacency list is: \",graph_out)\n",
    "print(\"The in adjacency list is: \",graph_in)\n",
    "\n",
    "# We have created a function that reads a directed graph from a file, for that this function returns two dictionaries of list,\n",
    "# one dictionary (graph_in) contains the nodes and incoming edges, and the other dictionary (graph_out) contains the nodes and\n",
    "# the outgoing edges.\n"
   ]
  },
  {
   "cell_type": "markdown",
   "metadata": {},
   "source": [
    "### Question 11\n",
    "\n",
    "Plot in log-log scale both the in-degree distribution and the out-degree distribution of this graph."
   ]
  },
  {
   "cell_type": "code",
   "execution_count": 6,
   "metadata": {},
   "outputs": [
    {
     "name": "stdout",
     "output_type": "stream",
     "text": [
      "{'2': 2, '3': 3, '4': 2, '1': 2}\n",
      "{'1': 3, '2': 3, '3': 1, '4': 2}\n"
     ]
    }
   ],
   "source": [
    "def calculate_degree(graph_in, graph_out):\n",
    "    degree_in = {}\n",
    "    degree_out = {}\n",
    "    for node, neighbors in graph_in.items():\n",
    "        degree_in[node] = len(neighbors)\n",
    "    for node, neighbors in graph_out.items():\n",
    "        degree_out[node] = len(neighbors)\n",
    "        \n",
    "    return degree_in, degree_out\n",
    "degree_in, degree_out = calculate_degree(graph_in, graph_out)\n",
    "print(degree_in)\n",
    "print(degree_out)\n",
    "\n",
    "# We created a fucntion that takes the in adjacency list and the out adjacency list as parameters, it calculates\n",
    "# the in-degree for the in adjacency list and the out-degree for the out adjacency list and returns two dictionaries\n",
    "# one contains the nodes and there in-degree, and the other contains the nodes and there out-degree.\n"
   ]
  },
  {
   "cell_type": "code",
   "execution_count": 10,
   "metadata": {},
   "outputs": [
    {
     "data": {
      "image/png": "[encoded data removed]",
      "text/plain": [
       "<Figure size 432x288 with 1 Axes>"
      ]
     },
     "metadata": {
      "needs_background": "light"
     },
     "output_type": "display_data"
    }
   ],
   "source": [
    "def plot_degree_distDirected(graph_in,graph_out,log=True):\n",
    "    if log:\n",
    "        plt.yscale(\"log\")\n",
    "        plt.xscale(\"log\")\n",
    "    degree_in,degree_out = calculate_degree(graph_in,graph_out)\n",
    "    plt.scatter(degree_in.keys(), degree_in.values())\n",
    "    plt.scatter(degree_out.keys(), degree_out.values())\n",
    "    plt.show()\n",
    "    \n",
    "    \n",
    "plot_degree_distDirected(graph_in,graph_out)\n",
    "\n",
    "#We created a function that takes the double adjacency list, it calls the function which is reponsible for calculating the \n",
    "# in-degree and out-degree, the result will be used to calculate the in-degree distribution and the out-degree distribution.\n",
    "# Both of theme are displayed."
   ]
  }
 ],
 "metadata": {
  "kernelspec": {
   "display_name": "Python 3 (ipykernel)",
   "language": "python",
   "name": "python3"
  },
  "language_info": {
   "codemirror_mode": {
    "name": "ipython",
    "version": 3
   },
   "file_extension": ".py",
   "mimetype": "text/x-python",
   "name": "python",
   "nbconvert_exporter": "python",
   "pygments_lexer": "ipython3",
   "version": "3.9.12"
  }
 },
 "nbformat": 4,
 "nbformat_minor": 2
}
